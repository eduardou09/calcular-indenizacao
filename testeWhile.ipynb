{
  "nbformat": 4,
  "nbformat_minor": 0,
  "metadata": {
    "colab": {
      "provenance": []
    },
    "kernelspec": {
      "name": "python3",
      "display_name": "Python 3"
    },
    "language_info": {
      "name": "python"
    }
  },
  "cells": [
    {
      "cell_type": "code",
      "execution_count": null,
      "metadata": {
        "id": "5j0AfwIdfCHy"
      },
      "outputs": [],
      "source": [
        "nomes = []\n",
        "indenizacoes = []\n",
        "idades = []\n",
        "y = 0\n",
        "\n",
        "while True:\n",
        "\n",
        "  nome = input(\"Digite seu nome: \").upper()\n",
        "  if nome == \"SAIR\":\n",
        "    break\n",
        "  nomes.append(nome)\n",
        "  idade = int(input(\"digite sua idade: \"))\n",
        "  idades.append(idade)\n",
        "  indenizacao = float(input(\"digite a indenizacao: \"))\n",
        "\n",
        "  if idade <= 12:\n",
        "      valor_final = (indenizacao * 0.30) + indenizacao\n",
        "      indenizacoes.append(valor_final)\n",
        "  elif idade >= 13 and idade <= 49:\n",
        "      valor_final = (indenizacao * 0.10) + indenizacao\n",
        "      indenizacoes.append(valor_final)\n",
        "  elif idade >= 50 and idade <= 65:\n",
        "      valor_final = (indenizacao * 0.15) + indenizacao\n",
        "      indenizacoes.append(valor_final)\n",
        "  else:\n",
        "      valor_final = (indenizacao * 0.35) + indenizacao\n",
        "      indenizacoes.append(valor_final)\n",
        "      nomes.append(nome)\n",
        "      idades.append(idade)\n",
        "\n",
        "\n",
        "  y = y + 1\n",
        "for i in range(y):\n",
        "  print(nomes[i], idades[i], indenizacoes[i])\n"
      ]
    }
  ]
}